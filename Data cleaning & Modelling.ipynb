{
 "cells": [
  {
   "cell_type": "code",
   "execution_count": 1,
   "id": "8ae20b60",
   "metadata": {},
   "outputs": [],
   "source": [
    "import numpy as np # linear algebra\n",
    "import pandas as pd # data processing, CSV file I/O (e.g. pd.read_csv)\n",
    "import matplotlib.pyplot as plt"
   ]
  },
  {
   "cell_type": "code",
   "execution_count": 2,
   "id": "b5683153",
   "metadata": {},
   "outputs": [],
   "source": [
    "applic = pd.read_csv(\"./data/data/applicant.csv\")\n",
    "loan=pd.read_csv(\"./data/data/loan.csv\")"
   ]
  },
  {
   "cell_type": "code",
   "execution_count": 3,
   "id": "79a681f3",
   "metadata": {},
   "outputs": [],
   "source": [
    "merged_data = loan.merge(applic,on=[\"applicant_id\"])"
   ]
  },
  {
   "cell_type": "code",
   "execution_count": 4,
   "id": "dae4bc1c",
   "metadata": {},
   "outputs": [],
   "source": [
    "column_names = ['loan_application_id', 'applicant_id', 'Months_loan_taken_for','Purpose', 'Principal_loan_amount','EMI_rate_in_percentage_of_disposable_income', 'Property','Has_coapplicant', 'Has_guarantor', 'Other_EMI_plans','Number_of_existing_loans_at_this_bank', 'Loan_history','Primary_applicant_age_in_years', 'Gender','Marital_status', 'Number_of_dependents', 'Housing','Years_at_current_residence', 'Employment_status','Has_been_employed_for_at_least', 'Has_been_employed_for_at_most','Telephone', 'Foreign_worker','Savings_account_balance','Balance_in_existing_bank_account_(lower_limit_of_bucket)','Balance_in_existing_bank_account_(upper_limit_of_bucket)','high_risk_applicant']"
   ]
  },
  {
   "cell_type": "code",
   "execution_count": 5,
   "id": "231884df",
   "metadata": {},
   "outputs": [],
   "source": [
    "df = merged_data.reindex(columns=column_names)"
   ]
  },
  {
   "cell_type": "code",
   "execution_count": 6,
   "id": "9096e867",
   "metadata": {},
   "outputs": [
    {
     "data": {
      "text/html": [
       "<div>\n",
       "<style scoped>\n",
       "    .dataframe tbody tr th:only-of-type {\n",
       "        vertical-align: middle;\n",
       "    }\n",
       "\n",
       "    .dataframe tbody tr th {\n",
       "        vertical-align: top;\n",
       "    }\n",
       "\n",
       "    .dataframe thead th {\n",
       "        text-align: right;\n",
       "    }\n",
       "</style>\n",
       "<table border=\"1\" class=\"dataframe\">\n",
       "  <thead>\n",
       "    <tr style=\"text-align: right;\">\n",
       "      <th></th>\n",
       "      <th>loan_application_id</th>\n",
       "      <th>applicant_id</th>\n",
       "      <th>Months_loan_taken_for</th>\n",
       "      <th>Purpose</th>\n",
       "      <th>Principal_loan_amount</th>\n",
       "      <th>EMI_rate_in_percentage_of_disposable_income</th>\n",
       "      <th>Property</th>\n",
       "      <th>Has_coapplicant</th>\n",
       "      <th>Has_guarantor</th>\n",
       "      <th>Other_EMI_plans</th>\n",
       "      <th>...</th>\n",
       "      <th>Years_at_current_residence</th>\n",
       "      <th>Employment_status</th>\n",
       "      <th>Has_been_employed_for_at_least</th>\n",
       "      <th>Has_been_employed_for_at_most</th>\n",
       "      <th>Telephone</th>\n",
       "      <th>Foreign_worker</th>\n",
       "      <th>Savings_account_balance</th>\n",
       "      <th>Balance_in_existing_bank_account_(lower_limit_of_bucket)</th>\n",
       "      <th>Balance_in_existing_bank_account_(upper_limit_of_bucket)</th>\n",
       "      <th>high_risk_applicant</th>\n",
       "    </tr>\n",
       "  </thead>\n",
       "  <tbody>\n",
       "    <tr>\n",
       "      <th>0</th>\n",
       "      <td>d68d975e-edad-11ea-8761-1d6f9c1ff461</td>\n",
       "      <td>1469590</td>\n",
       "      <td>6</td>\n",
       "      <td>electronic equipment</td>\n",
       "      <td>1169000</td>\n",
       "      <td>4</td>\n",
       "      <td>real estate</td>\n",
       "      <td>0</td>\n",
       "      <td>0</td>\n",
       "      <td>NaN</td>\n",
       "      <td>...</td>\n",
       "      <td>4</td>\n",
       "      <td>skilled employee / official</td>\n",
       "      <td>7 years</td>\n",
       "      <td>NaN</td>\n",
       "      <td>Registered under the applicant's name</td>\n",
       "      <td>1</td>\n",
       "      <td>NaN</td>\n",
       "      <td>NaN</td>\n",
       "      <td>0</td>\n",
       "      <td>0</td>\n",
       "    </tr>\n",
       "    <tr>\n",
       "      <th>1</th>\n",
       "      <td>d68d989e-edad-11ea-b1d5-2bcf65006448</td>\n",
       "      <td>1203873</td>\n",
       "      <td>48</td>\n",
       "      <td>electronic equipment</td>\n",
       "      <td>5951000</td>\n",
       "      <td>2</td>\n",
       "      <td>real estate</td>\n",
       "      <td>0</td>\n",
       "      <td>0</td>\n",
       "      <td>NaN</td>\n",
       "      <td>...</td>\n",
       "      <td>2</td>\n",
       "      <td>skilled employee / official</td>\n",
       "      <td>1 year</td>\n",
       "      <td>4 years</td>\n",
       "      <td>NaN</td>\n",
       "      <td>1</td>\n",
       "      <td>Low</td>\n",
       "      <td>0</td>\n",
       "      <td>2 lac</td>\n",
       "      <td>1</td>\n",
       "    </tr>\n",
       "    <tr>\n",
       "      <th>2</th>\n",
       "      <td>d68d995c-edad-11ea-814a-1b6716782575</td>\n",
       "      <td>1432761</td>\n",
       "      <td>12</td>\n",
       "      <td>education</td>\n",
       "      <td>2096000</td>\n",
       "      <td>2</td>\n",
       "      <td>real estate</td>\n",
       "      <td>0</td>\n",
       "      <td>0</td>\n",
       "      <td>NaN</td>\n",
       "      <td>...</td>\n",
       "      <td>3</td>\n",
       "      <td>unskilled - resident</td>\n",
       "      <td>4 years</td>\n",
       "      <td>7 years</td>\n",
       "      <td>NaN</td>\n",
       "      <td>1</td>\n",
       "      <td>Low</td>\n",
       "      <td>NaN</td>\n",
       "      <td>NaN</td>\n",
       "      <td>0</td>\n",
       "    </tr>\n",
       "    <tr>\n",
       "      <th>3</th>\n",
       "      <td>d68d99fc-edad-11ea-8841-17e8848060ae</td>\n",
       "      <td>1207582</td>\n",
       "      <td>42</td>\n",
       "      <td>FF&amp;E</td>\n",
       "      <td>7882000</td>\n",
       "      <td>2</td>\n",
       "      <td>building society savings agreement/life insurance</td>\n",
       "      <td>0</td>\n",
       "      <td>1</td>\n",
       "      <td>NaN</td>\n",
       "      <td>...</td>\n",
       "      <td>4</td>\n",
       "      <td>skilled employee / official</td>\n",
       "      <td>4 years</td>\n",
       "      <td>7 years</td>\n",
       "      <td>NaN</td>\n",
       "      <td>1</td>\n",
       "      <td>Low</td>\n",
       "      <td>NaN</td>\n",
       "      <td>0</td>\n",
       "      <td>0</td>\n",
       "    </tr>\n",
       "    <tr>\n",
       "      <th>4</th>\n",
       "      <td>d68d9a92-edad-11ea-9f3d-1f8682db006a</td>\n",
       "      <td>1674436</td>\n",
       "      <td>24</td>\n",
       "      <td>new vehicle</td>\n",
       "      <td>4870000</td>\n",
       "      <td>3</td>\n",
       "      <td>NaN</td>\n",
       "      <td>0</td>\n",
       "      <td>0</td>\n",
       "      <td>NaN</td>\n",
       "      <td>...</td>\n",
       "      <td>4</td>\n",
       "      <td>skilled employee / official</td>\n",
       "      <td>1 year</td>\n",
       "      <td>4 years</td>\n",
       "      <td>NaN</td>\n",
       "      <td>1</td>\n",
       "      <td>Low</td>\n",
       "      <td>NaN</td>\n",
       "      <td>0</td>\n",
       "      <td>1</td>\n",
       "    </tr>\n",
       "  </tbody>\n",
       "</table>\n",
       "<p>5 rows × 27 columns</p>\n",
       "</div>"
      ],
      "text/plain": [
       "                    loan_application_id  applicant_id  Months_loan_taken_for  \\\n",
       "0  d68d975e-edad-11ea-8761-1d6f9c1ff461       1469590                      6   \n",
       "1  d68d989e-edad-11ea-b1d5-2bcf65006448       1203873                     48   \n",
       "2  d68d995c-edad-11ea-814a-1b6716782575       1432761                     12   \n",
       "3  d68d99fc-edad-11ea-8841-17e8848060ae       1207582                     42   \n",
       "4  d68d9a92-edad-11ea-9f3d-1f8682db006a       1674436                     24   \n",
       "\n",
       "                Purpose  Principal_loan_amount  \\\n",
       "0  electronic equipment                1169000   \n",
       "1  electronic equipment                5951000   \n",
       "2             education                2096000   \n",
       "3                  FF&E                7882000   \n",
       "4           new vehicle                4870000   \n",
       "\n",
       "   EMI_rate_in_percentage_of_disposable_income  \\\n",
       "0                                            4   \n",
       "1                                            2   \n",
       "2                                            2   \n",
       "3                                            2   \n",
       "4                                            3   \n",
       "\n",
       "                                            Property  Has_coapplicant  \\\n",
       "0                                        real estate                0   \n",
       "1                                        real estate                0   \n",
       "2                                        real estate                0   \n",
       "3  building society savings agreement/life insurance                0   \n",
       "4                                                NaN                0   \n",
       "\n",
       "   Has_guarantor Other_EMI_plans  ...  Years_at_current_residence  \\\n",
       "0              0             NaN  ...                           4   \n",
       "1              0             NaN  ...                           2   \n",
       "2              0             NaN  ...                           3   \n",
       "3              1             NaN  ...                           4   \n",
       "4              0             NaN  ...                           4   \n",
       "\n",
       "             Employment_status  Has_been_employed_for_at_least  \\\n",
       "0  skilled employee / official                         7 years   \n",
       "1  skilled employee / official                          1 year   \n",
       "2         unskilled - resident                         4 years   \n",
       "3  skilled employee / official                         4 years   \n",
       "4  skilled employee / official                          1 year   \n",
       "\n",
       "  Has_been_employed_for_at_most                              Telephone  \\\n",
       "0                           NaN  Registered under the applicant's name   \n",
       "1                       4 years                                    NaN   \n",
       "2                       7 years                                    NaN   \n",
       "3                       7 years                                    NaN   \n",
       "4                       4 years                                    NaN   \n",
       "\n",
       "   Foreign_worker Savings_account_balance  \\\n",
       "0               1                     NaN   \n",
       "1               1                     Low   \n",
       "2               1                     Low   \n",
       "3               1                     Low   \n",
       "4               1                     Low   \n",
       "\n",
       "   Balance_in_existing_bank_account_(lower_limit_of_bucket)  \\\n",
       "0                                                NaN          \n",
       "1                                                  0          \n",
       "2                                                NaN          \n",
       "3                                                NaN          \n",
       "4                                                NaN          \n",
       "\n",
       "  Balance_in_existing_bank_account_(upper_limit_of_bucket) high_risk_applicant  \n",
       "0                                                  0                         0  \n",
       "1                                              2 lac                         1  \n",
       "2                                                NaN                         0  \n",
       "3                                                  0                         0  \n",
       "4                                                  0                         1  \n",
       "\n",
       "[5 rows x 27 columns]"
      ]
     },
     "execution_count": 6,
     "metadata": {},
     "output_type": "execute_result"
    }
   ],
   "source": [
    "df.head()"
   ]
  },
  {
   "cell_type": "code",
   "execution_count": 7,
   "id": "ab0c2db1",
   "metadata": {},
   "outputs": [],
   "source": [
    "numerical=['applicant_id', 'Months_loan_taken_for', 'Principal_loan_amount', 'EMI_rate_in_percentage_of_disposable_income', 'Has_coapplicant', 'Has_guarantor', 'Number_of_existing_loans_at_this_bank', 'Primary_applicant_age_in_years', 'Number_of_dependents', 'Years_at_current_residence', 'Foreign_worker', 'high_risk_applicant']"
   ]
  },
  {
   "cell_type": "code",
   "execution_count": 8,
   "id": "fd0822bf",
   "metadata": {},
   "outputs": [
    {
     "name": "stdout",
     "output_type": "stream",
     "text": [
      "False\n",
      "False\n",
      "False\n",
      "False\n",
      "False\n",
      "False\n",
      "False\n",
      "False\n",
      "False\n",
      "False\n",
      "False\n",
      "False\n"
     ]
    }
   ],
   "source": [
    "for i in numerical:\n",
    "    print((df[i]<0).any())"
   ]
  },
  {
   "cell_type": "code",
   "execution_count": 9,
   "id": "d641bf5b",
   "metadata": {},
   "outputs": [
    {
     "name": "stdout",
     "output_type": "stream",
     "text": [
      "<class 'pandas.core.frame.DataFrame'>\n",
      "Int64Index: 1000 entries, 0 to 999\n",
      "Data columns (total 27 columns):\n",
      " #   Column                                                    Non-Null Count  Dtype \n",
      "---  ------                                                    --------------  ----- \n",
      " 0   loan_application_id                                       1000 non-null   object\n",
      " 1   applicant_id                                              1000 non-null   int64 \n",
      " 2   Months_loan_taken_for                                     1000 non-null   int64 \n",
      " 3   Purpose                                                   988 non-null    object\n",
      " 4   Principal_loan_amount                                     1000 non-null   int64 \n",
      " 5   EMI_rate_in_percentage_of_disposable_income               1000 non-null   int64 \n",
      " 6   Property                                                  846 non-null    object\n",
      " 7   Has_coapplicant                                           1000 non-null   int64 \n",
      " 8   Has_guarantor                                             1000 non-null   int64 \n",
      " 9   Other_EMI_plans                                           186 non-null    object\n",
      " 10  Number_of_existing_loans_at_this_bank                     1000 non-null   int64 \n",
      " 11  Loan_history                                              1000 non-null   object\n",
      " 12  Primary_applicant_age_in_years                            1000 non-null   int64 \n",
      " 13  Gender                                                    1000 non-null   object\n",
      " 14  Marital_status                                            1000 non-null   object\n",
      " 15  Number_of_dependents                                      1000 non-null   int64 \n",
      " 16  Housing                                                   1000 non-null   object\n",
      " 17  Years_at_current_residence                                1000 non-null   int64 \n",
      " 18  Employment_status                                         1000 non-null   object\n",
      " 19  Has_been_employed_for_at_least                            938 non-null    object\n",
      " 20  Has_been_employed_for_at_most                             747 non-null    object\n",
      " 21  Telephone                                                 404 non-null    object\n",
      " 22  Foreign_worker                                            1000 non-null   int64 \n",
      " 23  Savings_account_balance                                   817 non-null    object\n",
      " 24  Balance_in_existing_bank_account_(lower_limit_of_bucket)  332 non-null    object\n",
      " 25  Balance_in_existing_bank_account_(upper_limit_of_bucket)  543 non-null    object\n",
      " 26  high_risk_applicant                                       1000 non-null   int64 \n",
      "dtypes: int64(12), object(15)\n",
      "memory usage: 218.8+ KB\n"
     ]
    }
   ],
   "source": [
    "df.info()"
   ]
  },
  {
   "cell_type": "code",
   "execution_count": 10,
   "id": "2d7ba08b",
   "metadata": {},
   "outputs": [
    {
     "data": {
      "text/plain": [
       "loan_application_id                                           0\n",
       "applicant_id                                                  0\n",
       "Months_loan_taken_for                                         0\n",
       "Purpose                                                      12\n",
       "Principal_loan_amount                                         0\n",
       "EMI_rate_in_percentage_of_disposable_income                   0\n",
       "Property                                                    154\n",
       "Has_coapplicant                                               0\n",
       "Has_guarantor                                                 0\n",
       "Other_EMI_plans                                             814\n",
       "Number_of_existing_loans_at_this_bank                         0\n",
       "Loan_history                                                  0\n",
       "Primary_applicant_age_in_years                                0\n",
       "Gender                                                        0\n",
       "Marital_status                                                0\n",
       "Number_of_dependents                                          0\n",
       "Housing                                                       0\n",
       "Years_at_current_residence                                    0\n",
       "Employment_status                                             0\n",
       "Has_been_employed_for_at_least                               62\n",
       "Has_been_employed_for_at_most                               253\n",
       "Telephone                                                   596\n",
       "Foreign_worker                                                0\n",
       "Savings_account_balance                                     183\n",
       "Balance_in_existing_bank_account_(lower_limit_of_bucket)    668\n",
       "Balance_in_existing_bank_account_(upper_limit_of_bucket)    457\n",
       "high_risk_applicant                                           0\n",
       "dtype: int64"
      ]
     },
     "execution_count": 10,
     "metadata": {},
     "output_type": "execute_result"
    }
   ],
   "source": [
    "df.isnull().sum()"
   ]
  },
  {
   "cell_type": "code",
   "execution_count": 11,
   "id": "7285c99a",
   "metadata": {},
   "outputs": [
    {
     "data": {
      "text/plain": [
       "loan_application_id                                         1000\n",
       "applicant_id                                                1000\n",
       "Months_loan_taken_for                                         33\n",
       "Purpose                                                        9\n",
       "Principal_loan_amount                                        921\n",
       "EMI_rate_in_percentage_of_disposable_income                    4\n",
       "Property                                                       3\n",
       "Has_coapplicant                                                2\n",
       "Has_guarantor                                                  2\n",
       "Other_EMI_plans                                                2\n",
       "Number_of_existing_loans_at_this_bank                          4\n",
       "Loan_history                                                   5\n",
       "Primary_applicant_age_in_years                                53\n",
       "Gender                                                         2\n",
       "Marital_status                                                 4\n",
       "Number_of_dependents                                           2\n",
       "Housing                                                        3\n",
       "Years_at_current_residence                                     4\n",
       "Employment_status                                              4\n",
       "Has_been_employed_for_at_least                                 4\n",
       "Has_been_employed_for_at_most                                  4\n",
       "Telephone                                                      1\n",
       "Foreign_worker                                                 2\n",
       "Savings_account_balance                                        4\n",
       "Balance_in_existing_bank_account_(lower_limit_of_bucket)       2\n",
       "Balance_in_existing_bank_account_(upper_limit_of_bucket)       2\n",
       "high_risk_applicant                                            2\n",
       "dtype: int64"
      ]
     },
     "execution_count": 11,
     "metadata": {},
     "output_type": "execute_result"
    }
   ],
   "source": [
    "df.nunique()"
   ]
  },
  {
   "cell_type": "markdown",
   "id": "ba905fcb",
   "metadata": {},
   "source": [
    "<b>As we can see there is high variance in 'Principal_loan_amount','loan_application_id','applicant_id'"
   ]
  },
  {
   "cell_type": "markdown",
   "id": "816fd7c9",
   "metadata": {},
   "source": [
    "## Handling the missing values"
   ]
  },
  {
   "cell_type": "code",
   "execution_count": 12,
   "id": "cb4c7b1b",
   "metadata": {},
   "outputs": [
    {
     "data": {
      "text/plain": [
       "Registered under the applicant's name    404\n",
       "Name: Telephone, dtype: int64"
      ]
     },
     "execution_count": 12,
     "metadata": {},
     "output_type": "execute_result"
    }
   ],
   "source": [
    "df['Telephone'].value_counts()"
   ]
  },
  {
   "cell_type": "code",
   "execution_count": 13,
   "id": "8b6819da",
   "metadata": {},
   "outputs": [],
   "source": [
    "df0 = df.copy()\n",
    "df0.loc[df0['Telephone']==\"Registered under the applicant's name\", 'Telephone']=1"
   ]
  },
  {
   "cell_type": "code",
   "execution_count": 14,
   "id": "3c7ae2ba",
   "metadata": {},
   "outputs": [],
   "source": [
    "df0['Telephone']=df0['Telephone'].fillna(0)"
   ]
  },
  {
   "cell_type": "code",
   "execution_count": 15,
   "id": "fa04adc5",
   "metadata": {},
   "outputs": [
    {
     "data": {
      "text/plain": [
       "0    596\n",
       "1    404\n",
       "Name: Telephone, dtype: int64"
      ]
     },
     "execution_count": 15,
     "metadata": {},
     "output_type": "execute_result"
    }
   ],
   "source": [
    "df0['Telephone'].value_counts()"
   ]
  },
  {
   "cell_type": "code",
   "execution_count": 16,
   "id": "ed3dff55",
   "metadata": {},
   "outputs": [
    {
     "name": "stdout",
     "output_type": "stream",
     "text": [
      "loan_application_id                                         0\n",
      "applicant_id                                                0\n",
      "Months_loan_taken_for                                       0\n",
      "Purpose                                                     0\n",
      "Principal_loan_amount                                       0\n",
      "EMI_rate_in_percentage_of_disposable_income                 0\n",
      "Property                                                    0\n",
      "Has_coapplicant                                             0\n",
      "Has_guarantor                                               0\n",
      "Other_EMI_plans                                             0\n",
      "Number_of_existing_loans_at_this_bank                       0\n",
      "Loan_history                                                0\n",
      "Primary_applicant_age_in_years                              0\n",
      "Gender                                                      0\n",
      "Marital_status                                              0\n",
      "Number_of_dependents                                        0\n",
      "Housing                                                     0\n",
      "Years_at_current_residence                                  0\n",
      "Employment_status                                           0\n",
      "Has_been_employed_for_at_least                              0\n",
      "Has_been_employed_for_at_most                               0\n",
      "Telephone                                                   0\n",
      "Foreign_worker                                              0\n",
      "Savings_account_balance                                     0\n",
      "Balance_in_existing_bank_account_(lower_limit_of_bucket)    0\n",
      "Balance_in_existing_bank_account_(upper_limit_of_bucket)    0\n",
      "high_risk_applicant                                         0\n",
      "dtype: int64\n"
     ]
    }
   ],
   "source": [
    "for col in df0:\n",
    "    # Check if the column is of object type\n",
    "    if df0[col].dtype == 'object':\n",
    "        # Impute with the most frequent value\n",
    "        df0 = df0.fillna(df0[col].value_counts().index[0])\n",
    "\n",
    "# Count the number of NaNs in the dataset and print the counts to verify\n",
    "print(df0.isna().sum())"
   ]
  },
  {
   "cell_type": "markdown",
   "id": "a328dd9d",
   "metadata": {},
   "source": [
    "## Preprocessing the data"
   ]
  },
  {
   "cell_type": "markdown",
   "id": "1659ae3d",
   "metadata": {},
   "source": [
    "### categorical features are converted into numerical feature"
   ]
  },
  {
   "cell_type": "code",
   "execution_count": 17,
   "id": "70a990e9",
   "metadata": {},
   "outputs": [],
   "source": [
    "# Import LabelEncoder\n",
    "from sklearn.preprocessing import LabelEncoder\n",
    "\n",
    "# Instantiate LabelEncoder\n",
    "le = LabelEncoder()\n",
    "\n",
    "# Iterate over all the values of each column and extract their dtypes\n",
    "for col in df0:\n",
    "    # Compare if the dtype is object\n",
    "    if df0[col].dtype=='object':\n",
    "    # Use LabelEncoder to do the numeric transformation\n",
    "        df0[col]=le.fit_transform(df0[col])"
   ]
  },
  {
   "cell_type": "code",
   "execution_count": 18,
   "id": "3d39f2fd",
   "metadata": {},
   "outputs": [
    {
     "data": {
      "text/plain": [
       "0      1469590\n",
       "1      1203873\n",
       "2      1432761\n",
       "3      1207582\n",
       "4      1674436\n",
       "        ...   \n",
       "995    1880194\n",
       "996    1114064\n",
       "997    1758046\n",
       "998    1824545\n",
       "999    1660770\n",
       "Name: applicant_id, Length: 1000, dtype: int64"
      ]
     },
     "execution_count": 18,
     "metadata": {},
     "output_type": "execute_result"
    }
   ],
   "source": [
    "df0['applicant_id']"
   ]
  },
  {
   "cell_type": "code",
   "execution_count": 19,
   "id": "a1e1d170",
   "metadata": {},
   "outputs": [
    {
     "name": "stdout",
     "output_type": "stream",
     "text": [
      "<class 'pandas.core.frame.DataFrame'>\n",
      "Int64Index: 1000 entries, 0 to 999\n",
      "Data columns (total 27 columns):\n",
      " #   Column                                                    Non-Null Count  Dtype\n",
      "---  ------                                                    --------------  -----\n",
      " 0   loan_application_id                                       1000 non-null   int32\n",
      " 1   applicant_id                                              1000 non-null   int64\n",
      " 2   Months_loan_taken_for                                     1000 non-null   int64\n",
      " 3   Purpose                                                   1000 non-null   int32\n",
      " 4   Principal_loan_amount                                     1000 non-null   int64\n",
      " 5   EMI_rate_in_percentage_of_disposable_income               1000 non-null   int64\n",
      " 6   Property                                                  1000 non-null   int32\n",
      " 7   Has_coapplicant                                           1000 non-null   int64\n",
      " 8   Has_guarantor                                             1000 non-null   int64\n",
      " 9   Other_EMI_plans                                           1000 non-null   int32\n",
      " 10  Number_of_existing_loans_at_this_bank                     1000 non-null   int64\n",
      " 11  Loan_history                                              1000 non-null   int32\n",
      " 12  Primary_applicant_age_in_years                            1000 non-null   int64\n",
      " 13  Gender                                                    1000 non-null   int32\n",
      " 14  Marital_status                                            1000 non-null   int32\n",
      " 15  Number_of_dependents                                      1000 non-null   int64\n",
      " 16  Housing                                                   1000 non-null   int32\n",
      " 17  Years_at_current_residence                                1000 non-null   int64\n",
      " 18  Employment_status                                         1000 non-null   int32\n",
      " 19  Has_been_employed_for_at_least                            1000 non-null   int32\n",
      " 20  Has_been_employed_for_at_most                             1000 non-null   int32\n",
      " 21  Telephone                                                 1000 non-null   int64\n",
      " 22  Foreign_worker                                            1000 non-null   int64\n",
      " 23  Savings_account_balance                                   1000 non-null   int32\n",
      " 24  Balance_in_existing_bank_account_(lower_limit_of_bucket)  1000 non-null   int32\n",
      " 25  Balance_in_existing_bank_account_(upper_limit_of_bucket)  1000 non-null   int32\n",
      " 26  high_risk_applicant                                       1000 non-null   int64\n",
      "dtypes: int32(14), int64(13)\n",
      "memory usage: 164.1 KB\n"
     ]
    }
   ],
   "source": [
    "df0.info()"
   ]
  },
  {
   "cell_type": "markdown",
   "id": "1668842e",
   "metadata": {},
   "source": [
    "## Upsampling the minor dataset"
   ]
  },
  {
   "cell_type": "code",
   "execution_count": 20,
   "id": "25df42d9",
   "metadata": {},
   "outputs": [
    {
     "name": "stdout",
     "output_type": "stream",
     "text": [
      "(700, 27)\n",
      "(300, 27)\n"
     ]
    }
   ],
   "source": [
    "non_default = df0[df0[\"high_risk_applicant\"] == 0]\n",
    "default  = df0[df0[\"high_risk_applicant\"] == 1]\n",
    "print(non_default.shape)\n",
    "print(default.shape)"
   ]
  },
  {
   "cell_type": "code",
   "execution_count": 21,
   "id": "1623d061",
   "metadata": {},
   "outputs": [
    {
     "name": "stdout",
     "output_type": "stream",
     "text": [
      "(700, 27)\n",
      "<class 'pandas.core.frame.DataFrame'>\n"
     ]
    }
   ],
   "source": [
    "from sklearn.utils import resample\n",
    "default = resample(default,\n",
    "             replace=True,\n",
    "             n_samples=len(non_default),\n",
    "             random_state=42)\n",
    "\n",
    "print(default.shape)\n",
    "print(type(default))"
   ]
  },
  {
   "cell_type": "markdown",
   "id": "cdc02fb6",
   "metadata": {},
   "source": [
    "### joining the processed data"
   ]
  },
  {
   "cell_type": "code",
   "execution_count": 22,
   "id": "1dbb25d3",
   "metadata": {},
   "outputs": [],
   "source": [
    "dfn=pd.concat((non_default, default)).sort_index(axis = 0)"
   ]
  },
  {
   "cell_type": "code",
   "execution_count": 23,
   "id": "7a86a3ab",
   "metadata": {},
   "outputs": [],
   "source": [
    "dfn = dfn.drop('applicant_id', axis=1)"
   ]
  },
  {
   "cell_type": "code",
   "execution_count": 24,
   "id": "890d91cc",
   "metadata": {},
   "outputs": [
    {
     "data": {
      "text/plain": [
       "(1400, 26)"
      ]
     },
     "execution_count": 24,
     "metadata": {},
     "output_type": "execute_result"
    }
   ],
   "source": [
    "dfn.shape"
   ]
  },
  {
   "cell_type": "code",
   "execution_count": 25,
   "id": "ebd21254",
   "metadata": {},
   "outputs": [
    {
     "data": {
      "text/plain": [
       "0    700\n",
       "1    700\n",
       "Name: high_risk_applicant, dtype: int64"
      ]
     },
     "execution_count": 25,
     "metadata": {},
     "output_type": "execute_result"
    }
   ],
   "source": [
    "dfn['high_risk_applicant'].value_counts()"
   ]
  },
  {
   "cell_type": "markdown",
   "id": "97b6f133",
   "metadata": {},
   "source": [
    "## Splitting the dataset into train and test sets"
   ]
  },
  {
   "cell_type": "code",
   "execution_count": 26,
   "id": "1eb381b5",
   "metadata": {},
   "outputs": [],
   "source": [
    "from sklearn.model_selection import train_test_split\n",
    "#convert the DataFrame to a NumPy array\n",
    "dfn = dfn.values\n",
    "\n",
    "# Segregate features and labels into separate variables\n",
    "X,y = dfn[:,0:25] , dfn[:,-1]\n",
    "\n",
    "# Split into train and test sets\n",
    "X_train, X_test, y_train, y_test = train_test_split(X,\n",
    "                                y,\n",
    "                                test_size=0.3,\n",
    "                                random_state=1)"
   ]
  },
  {
   "cell_type": "markdown",
   "id": "9a054d8c",
   "metadata": {},
   "source": [
    "## Normalising the data"
   ]
  },
  {
   "cell_type": "code",
   "execution_count": 27,
   "id": "791db577",
   "metadata": {},
   "outputs": [],
   "source": [
    "from sklearn.preprocessing import MinMaxScaler\n",
    "\n",
    "# Instantiate MinMaxScaler and use it to rescale X_train and X_test\n",
    "scaler = MinMaxScaler(feature_range=(0, 1))\n",
    "rescaledX_train = scaler.fit_transform(X_train)\n",
    "rescaledX_test = scaler.fit_transform(X_test)"
   ]
  },
  {
   "cell_type": "markdown",
   "id": "406c2010",
   "metadata": {},
   "source": [
    "## Model building ,Making predictions and evaluating performance"
   ]
  },
  {
   "cell_type": "code",
   "execution_count": 28,
   "id": "c0718136",
   "metadata": {},
   "outputs": [],
   "source": [
    "from sklearn.linear_model import LogisticRegression\n",
    "from sklearn.ensemble import RandomForestClassifier\n",
    "from sklearn.ensemble import GradientBoostingClassifier\n",
    "from sklearn.svm import SVC\n",
    "from sklearn.metrics import accuracy_score, confusion_matrix, classification_report, f1_score\n",
    "#from imblearn.over_sampling import RandomOverSampler\n",
    "#from imblearn.under_sampling import RandomUnderSampler\n",
    "from sklearn.pipeline import Pipeline\n",
    "from sklearn.preprocessing import StandardScaler\n",
    "from sklearn.model_selection import train_test_split, KFold, cross_val_score"
   ]
  },
  {
   "cell_type": "code",
   "execution_count": 29,
   "id": "fe7823bf",
   "metadata": {},
   "outputs": [],
   "source": [
    "log = LogisticRegression(class_weight='balanced')\n",
    "forest = RandomForestClassifier(n_estimators=150)\n",
    "svm = SVC()\n"
   ]
  },
  {
   "cell_type": "code",
   "execution_count": 30,
   "id": "5cce3246",
   "metadata": {},
   "outputs": [],
   "source": [
    "log_pipe = Pipeline([\n",
    "    ('scale', StandardScaler()),\n",
    "    ('log', log)\n",
    "])"
   ]
  },
  {
   "cell_type": "code",
   "execution_count": 31,
   "id": "d54e3f21",
   "metadata": {},
   "outputs": [
    {
     "name": "stdout",
     "output_type": "stream",
     "text": [
      "Logistic Regression:\n",
      "\n",
      "Accuracy Score: 0.7214285714285714\n",
      "Confusion Matrix:\n",
      " [[152  65]\n",
      " [ 52 151]]\n",
      "Clasisfication Report:\n",
      "               precision    recall  f1-score   support\n",
      "\n",
      "           0       0.75      0.70      0.72       217\n",
      "           1       0.70      0.74      0.72       203\n",
      "\n",
      "    accuracy                           0.72       420\n",
      "   macro avg       0.72      0.72      0.72       420\n",
      "weighted avg       0.72      0.72      0.72       420\n",
      "\n",
      "Random Forest Classifier:\n",
      "\n",
      "Accuracy Score: 0.8857142857142857\n",
      "Confusion Matrix:\n",
      " [[183  34]\n",
      " [ 14 189]]\n",
      "Clasisfication Report:\n",
      "               precision    recall  f1-score   support\n",
      "\n",
      "           0       0.93      0.84      0.88       217\n",
      "           1       0.85      0.93      0.89       203\n",
      "\n",
      "    accuracy                           0.89       420\n",
      "   macro avg       0.89      0.89      0.89       420\n",
      "weighted avg       0.89      0.89      0.89       420\n",
      "\n",
      "SV Classifier:\n",
      "\n",
      "Accuracy Score: 0.5857142857142857\n",
      "Confusion Matrix:\n",
      " [[173  44]\n",
      " [130  73]]\n",
      "Clasisfication Report:\n",
      "               precision    recall  f1-score   support\n",
      "\n",
      "           0       0.57      0.80      0.67       217\n",
      "           1       0.62      0.36      0.46       203\n",
      "\n",
      "    accuracy                           0.59       420\n",
      "   macro avg       0.60      0.58      0.56       420\n",
      "weighted avg       0.60      0.59      0.56       420\n",
      "\n"
     ]
    }
   ],
   "source": [
    "for model, model_name in zip([log_pipe,forest,svm],['Logistic Regression','Random Forest Classifier','SV Classifier']):\n",
    "    model.fit(X_train, y_train)\n",
    "    y_pred = model.predict(X_test)\n",
    "    print(model_name+\":\\n\")\n",
    "    print(\"Accuracy Score:\", accuracy_score(y_test, y_pred))\n",
    "    print(\"Confusion Matrix:\\n\", confusion_matrix(y_test, y_pred))\n",
    "    print(\"Clasisfication Report:\\n\", classification_report(y_test, y_pred))"
   ]
  },
  {
   "cell_type": "markdown",
   "id": "a2ff2065",
   "metadata": {},
   "source": [
    "<b>Observation:</b>\n",
    "1. Gotten F1-Score of 0.88 for Random forest which is highest.\n",
    "2. But we have gotten High false negative (actual -- default but predicted -- non-default)  compared to false positive."
   ]
  },
  {
   "cell_type": "markdown",
   "id": "b0b5ada8",
   "metadata": {},
   "source": [
    "## By cross validation process"
   ]
  },
  {
   "cell_type": "code",
   "execution_count": 32,
   "id": "476e3b0e",
   "metadata": {},
   "outputs": [
    {
     "name": "stdout",
     "output_type": "stream",
     "text": [
      "Model Evaluation Scores:\n",
      "\n",
      "\n",
      "Logistic Regression:\n",
      "Accuracy:  0.7020408163265306\n",
      "\n",
      "\n",
      "Random Forest Classifier:\n",
      "Accuracy:  0.8704081632653061\n",
      "\n",
      "\n",
      "SV Classifier:\n",
      "Accuracy:  0.5469387755102041\n",
      "\n",
      "\n"
     ]
    }
   ],
   "source": [
    "fold = KFold(n_splits = 5, random_state=1, shuffle = True)\n",
    "print(\"Model Evaluation Scores:\\n\\n\")\n",
    "for model, model_name in zip([log_pipe,forest,svm],['Logistic Regression','Random Forest Classifier','SV Classifier']):\n",
    "    scores = cross_val_score(model,\n",
    "                                X_train,\n",
    "                                y_train,\n",
    "                                cv = fold,\n",
    "                                scoring = 'accuracy')\n",
    "    print(model_name+\":\")\n",
    "    print(\"Accuracy: \",np.mean(scores))\n",
    "    print(\"\\n\")"
   ]
  },
  {
   "cell_type": "code",
   "execution_count": 39,
   "id": "bb8f665c",
   "metadata": {},
   "outputs": [
    {
     "name": "stdout",
     "output_type": "stream",
     "text": [
      "Logistic Regression:\n",
      "\n",
      "Accuracy Score: 0.7214285714285714\n",
      "Confusion Matrix:\n",
      " [[152  65]\n",
      " [ 52 151]]\n",
      "Clasisfication Report:\n",
      "               precision    recall  f1-score   support\n",
      "\n",
      "           0       0.75      0.70      0.72       217\n",
      "           1       0.70      0.74      0.72       203\n",
      "\n",
      "    accuracy                           0.72       420\n",
      "   macro avg       0.72      0.72      0.72       420\n",
      "weighted avg       0.72      0.72      0.72       420\n",
      "\n",
      "Random Forest Classifier:\n",
      "\n",
      "Accuracy Score: 0.8857142857142857\n",
      "Confusion Matrix:\n",
      " [[185  32]\n",
      " [ 16 187]]\n",
      "Clasisfication Report:\n",
      "               precision    recall  f1-score   support\n",
      "\n",
      "           0       0.92      0.85      0.89       217\n",
      "           1       0.85      0.92      0.89       203\n",
      "\n",
      "    accuracy                           0.89       420\n",
      "   macro avg       0.89      0.89      0.89       420\n",
      "weighted avg       0.89      0.89      0.89       420\n",
      "\n",
      "SV Classifier:\n",
      "\n",
      "Accuracy Score: 0.5857142857142857\n",
      "Confusion Matrix:\n",
      " [[173  44]\n",
      " [130  73]]\n",
      "Clasisfication Report:\n",
      "               precision    recall  f1-score   support\n",
      "\n",
      "           0       0.57      0.80      0.67       217\n",
      "           1       0.62      0.36      0.46       203\n",
      "\n",
      "    accuracy                           0.59       420\n",
      "   macro avg       0.60      0.58      0.56       420\n",
      "weighted avg       0.60      0.59      0.56       420\n",
      "\n"
     ]
    }
   ],
   "source": [
    "for model, model_name in zip([log_pipe,forest,svm],['Logistic Regression','Random Forest Classifier','SV Classifier']):\n",
    "    model.fit(X_train, y_train)\n",
    "    y_pred = model.predict(X_test)\n",
    "    print(model_name+\":\\n\")\n",
    "    print(\"Accuracy Score:\", accuracy_score(y_test, y_pred))\n",
    "    print(\"Confusion Matrix:\\n\", confusion_matrix(y_test, y_pred))\n",
    "    print(\"Clasisfication Report:\\n\", classification_report(y_test, y_pred))"
   ]
  },
  {
   "cell_type": "markdown",
   "id": "0c3c9072",
   "metadata": {},
   "source": [
    "## Implementing RF "
   ]
  },
  {
   "cell_type": "code",
   "execution_count": 37,
   "id": "b3986655",
   "metadata": {},
   "outputs": [],
   "source": [
    "m = RandomForestClassifier(n_estimators=150)\n",
    "m.fit(X_train, y_train)\n",
    "y_pred = m.predict(X_test)"
   ]
  },
  {
   "cell_type": "code",
   "execution_count": 38,
   "id": "3b26cbd9",
   "metadata": {},
   "outputs": [
    {
     "name": "stdout",
     "output_type": "stream",
     "text": [
      "Accuracy Score: 0.8857142857142857\n",
      "Confusion Matrix:\n",
      " [[183  34]\n",
      " [ 14 189]]\n",
      "Clasisfication Report:\n",
      "               precision    recall  f1-score   support\n",
      "\n",
      "           0       0.93      0.84      0.88       217\n",
      "           1       0.85      0.93      0.89       203\n",
      "\n",
      "    accuracy                           0.89       420\n",
      "   macro avg       0.89      0.89      0.89       420\n",
      "weighted avg       0.89      0.89      0.89       420\n",
      "\n"
     ]
    }
   ],
   "source": [
    "print(\"Accuracy Score:\", accuracy_score(y_test, y_pred))\n",
    "print(\"Confusion Matrix:\\n\", confusion_matrix(y_test, y_pred))\n",
    "print(\"Clasisfication Report:\\n\", classification_report(y_test, y_pred))"
   ]
  },
  {
   "cell_type": "markdown",
   "id": "c4f3c81c",
   "metadata": {},
   "source": [
    "<b> Random forest has given us the best result of 0.88 and 0.89 "
   ]
  },
  {
   "cell_type": "code",
   "execution_count": null,
   "id": "e8f70c98",
   "metadata": {},
   "outputs": [],
   "source": []
  }
 ],
 "metadata": {
  "kernelspec": {
   "display_name": "Python 3 (ipykernel)",
   "language": "python",
   "name": "python3"
  },
  "language_info": {
   "codemirror_mode": {
    "name": "ipython",
    "version": 3
   },
   "file_extension": ".py",
   "mimetype": "text/x-python",
   "name": "python",
   "nbconvert_exporter": "python",
   "pygments_lexer": "ipython3",
   "version": "3.9.13"
  }
 },
 "nbformat": 4,
 "nbformat_minor": 5
}
